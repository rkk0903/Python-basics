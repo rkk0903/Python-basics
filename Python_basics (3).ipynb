{
  "nbformat": 4,
  "nbformat_minor": 0,
  "metadata": {
    "colab": {
      "provenance": []
    },
    "kernelspec": {
      "name": "python3",
      "display_name": "Python 3"
    },
    "language_info": {
      "name": "python"
    }
  },
  "cells": [
    {
      "cell_type": "markdown",
      "source": [
        "# python basics\n"
      ],
      "metadata": {
        "id": "Ut3dmKqGhGID"
      }
    },
    {
      "cell_type": "markdown",
      "source": [
        "1.  What is Python, and why is it popular?\n",
        "\n",
        "   - Python is a high-level, interpreted programming language known for its simplicity, readability, and wide range of applications.\n",
        "\n",
        "  Why is Python popular?\n",
        " - Easy to Learn and Use:\n",
        "Python has a simple and clean syntax similar to English, making it ideal for beginners.\n",
        "\n",
        " - Versatile:\n",
        "It's used in web development, data analysis, machine learning, artificial intelligence, automation, game development, and more.\n",
        "\n",
        " - Large Standard Library:\n",
        "Python comes with a vast collection of built-in modules and packages that reduce development time.\n",
        "\n",
        " - Strong Community Support:\n",
        "Millions of users worldwide contribute to its growth, offering tutorials, forums, and third-party libraries.\n",
        "\n",
        " - Cross-Platform:\n",
        "Python runs on Windows, macOS, and Linux without major changes to the code.\n",
        "\n",
        " - Integration Capabilities:\n",
        "Python can easily integrate with other languages and tools like C, C++, Java, and SQL.\n",
        "\n",
        "\n",
        "2. What is an interpreter in Python?\n",
        "\n",
        "  - An interpreter in Python is a program that executes Python code line by line, translating it into machine-readable instructions on the fly (without needing prior compilation). Unlike compiled languages (e.g., C++), Python code doesn’t need to be converted into an executable file before running—it’s executed directly by the interpreter.\n",
        "\n",
        "  How the Python Interpreter Works\n",
        " - reads Code → Processes each line sequentially.\n",
        "\n",
        " - Checks Syntax → Validates for errors (e.g., missing colons, incorrect indentation).\n",
        "\n",
        " - Converts to Bytecode → Translates Python code into an intermediate bytecode (.pyc files in __pycache__).\n",
        "\n",
        "  Executes Bytecode → Runs the bytecode in the Python Virtual Machine (PVM).\n",
        "\n",
        "   Outputs Result → Displays the result or errors in the console.\n",
        "\n",
        "\n",
        " 3. What are pre-defined keywords in Python\n",
        "\n",
        "- Keywords in Python are reserved words that have special meanings and cannot be used as variable names, function names, or identifiers. They define Python’s syntax and structure.\n",
        "\n",
        "- List of Python Keywords\n",
        " - Keyword\t->  Purpose\n",
        " - False\t-> Boolean false value\n",
        " - True\t-> Boolean true value\n",
        " - None\t-> Represents null or absence of value\n",
        " - and\t-> Logical AND operator\n",
        " - or\t -> Logical OR operator\n",
        " - not\t-> Logical NOT operator\n",
        " - if\t-> Conditional statement\n",
        " - elif\t-> Else-if condition\n",
        " - else\t-> Else block in conditionals\n",
        " - for\t-> For loop iteration\n",
        " -while ->\tWhile loop\n",
        " - break ->\tExit a loop early\n",
        " - continue ->\tSkip to next loop iteration\n",
        " - pass\t-> Placeholder (do nothing)\n",
        " - def\t-> Define a function\n",
        " - return\t-> Exit a function and return a value\n",
        " - class\t-> Define a class\n",
        " - lambda\t-> Anonymous function\n",
        " - try\t-> Exception handling block\n",
        " - except\t-> Catch exceptions\n",
        " - finally\t-> Execute code regardless of exceptions\n",
        " - raise\t-> Raise an exception\n",
        " - import\t-> Import modules\n",
        " - from\t-> Import specific parts of a module\n",
        " - as\t-> Alias for imports/renaming\n",
        " - with\t-> Context management (e.g., file handling)\n",
        " - global\t-> Declare a global variable\n",
        " - nonlocal\t-> Modify a variable in nested scope\n",
        " - del\t-> Delete a variable or object reference\n",
        " - assert\t-> Debugging assertion\n",
        " - async\t-> Define asynchronous coroutines\n",
        " - await\t-> Wait for an async operation\n",
        " - yield\t-> Return a generator value\n",
        " - in\t-> Check membership (e.g., x in list)\n",
        " - is\t-> Identity comparison (e.g., x is None).\n",
        "\n",
        "\n",
        "4. Can keywords be used as variable names?\n",
        "\n",
        "   - No, keywords can not be used as variabe names beacuse they already have a fixed role in python's syntax and using them would confuse the interpreter.\n",
        "\n",
        "\n",
        "5. What is mutability in Python?\n",
        "\n",
        "- Mutability in Python refers to the ability of an object to change its internal state or contents after it has been created. Based on mutability, Python objects are classified into two categories:\n",
        "\n",
        "  - Mutable objects\n",
        "\n",
        "  - Immutable objects\n",
        "\n",
        "- Mutable Objects:\n",
        " - Mutable objects can be modified after they are created. Any changes made to such objects affect the original object itself.\n",
        "\n",
        "  Examples: list, set, dictionary (dict), bytearray\n",
        "\n",
        " - Explanation:\n",
        "When we modify a mutable object, the object’s memory address remains the same, and the changes are made in-place.\n",
        "\n",
        "- Immutable Objects:\n",
        " Immutable objects cannot be changed once they are created. Any operation that seems to modify the object actually creates a new object in memory.\n",
        "\n",
        " - Examples: int, float, str, tuple, bool, frozenset\n",
        "\n",
        " - Explanation:\n",
        "If an immutable object is altered, Python internally creates a new object with a different memory location, while the original object remains unchanged.\n",
        "\n",
        "\n",
        "6. why are lists mutable, but tuples are immutable?\n",
        "\n",
        " - In Python, lists are mutable, meaning their elements can be changed, added, or removed after creation. This flexibility makes them ideal for storing dynamic data. Tuples, on the other hand, are immutable, meaning their contents cannot be altered once defined. This immutability improves performance, reduces memory usage, and allows tuples to be hashable, making them usable as dictionary keys or set elements. The distinction supports Python’s design: use lists when data may change, and tuples when data should remain constant. Immutability also helps avoid accidental changes in code, ensuring data integrity, especially in functions, loops, or concurrent programming environments.\n",
        "\n",
        "7. What is the difference between “==” and “is” operators in Python\n",
        "    - In Python, the == operator is used to compare the values of two objects to check if they are equal. It evaluates whether the data contained in the two objects is the same, regardless of whether they are the same object in memory. This operator is typically used to compare the contents of lists, strings, numbers, and other data types.\n",
        "\n",
        " - The is operator, on the other hand, compares the identities of two objects, checking if they refer to the same object in memory. It evaluates whether both variables point to the exact same location in memory, not whether their values are the same.\n",
        "\n",
        " - This difference is crucial when working with mutable and immutable objects. For example, two lists with identical values may not be the same object, while two variables referencing the same list will have the same identity. Therefore, == checks value equality, while is checks identity equality.\n",
        "\n",
        "\n",
        "8. What are logical operators in Python?\n",
        "\n",
        " - In Python, logical operators are used to combine multiple boolean expressions or conditions, and they evaluate to either True or False. There are three main logical operators:\n",
        "\n",
        " - (1)  and: This operator returns True if both conditions are True. If any condition is False, the result will be False.\n",
        "\n",
        "   Example: a and b returns True if both a and b are True.\n",
        "\n",
        "  - (3)   or: This operator returns True if at least one of the conditions is True. If both are False, the result will be False.\n",
        "\n",
        " -  Example: a or b returns True if either a or b is True.\n",
        "\n",
        " - (5)  not: This operator reverses the boolean value of a condition. If the condition is True, it returns False, and vice versa.\n",
        "\n",
        "   Example: not a returns False if a is True.\n",
        "\n",
        "9. What is type casting in Python\n",
        "\n",
        "- Type casting in Python is the process of converting one data type into another. This is necessary when performing operations on variables of different types or when ensuring data compatibility.\n",
        "\n",
        " - Types of Type Casting:\n",
        "Implicit Type Casting (Type Coercion):\n",
        "\n",
        " - This occurs automatically when Python converts a lower data type to a higher data type.\n",
        "\n",
        " - Python performs this type of casting when it's safe and required. For example, when an integer is combined with a float, Python automatically converts the integer to a float.\n",
        "\n",
        "- Explicit Type Casting:\n",
        "\n",
        " - This is when the programmer explicitly converts one data type to another using built-in functions like int(), float(), str(), etc.\n",
        "\n",
        "\n",
        "10. What is the difference between implicit and explicit type casting?\n",
        "- Implicit and explicit type casting are two ways to convert data types in Python, but they differ in how the conversion occurs.\n",
        "\n",
        " - Implicit Type Casting:\n",
        "\n",
        " - Definition: Implicit casting happens automatically when Python converts a lower-level data type (like int) to a higher-level data type (like float) without explicit instruction from the programmer.\n",
        "\n",
        " - When it happens: Python performs the conversion when it's safe and no data loss occurs. For example, when an integer is combined with a float, Python automatically converts the integer to a float.\n",
        "\n",
        "11. What is the purpose of conditional statements in Python?\n",
        "\n",
        "-   The purpose of conditional statements in Python is to allow the program to make decisions based on certain conditions. They enable the program to execute different blocks of code depending on whether a given condition is True or False.\n",
        "- Key Points:\n",
        " - Conditional statements control the flow of execution.\n",
        "\n",
        " - They help programs respond dynamically to different inputs or situations.\n",
        "\n",
        " - They are essential for decision-making in logic.\n",
        "\n",
        "- Main conditional statements in Python:\n",
        " - if – Executes a block of code if a condition is True.\n",
        "\n",
        " - elif (else if) – Checks another condition if the previous if was False.\n",
        "\n",
        " - else – Executes a block of code if none of the previous conditions are True.\n",
        "\n",
        "  \n",
        "12. How does the elif statement work\n",
        "\n",
        "  - In Python, the elif statement is used to handle multiple conditions in decision-making. It stands for \"else if\" and comes after an initial if condition. When a program encounters an if-elif-else structure, it evaluates each condition one by one from top to bottom. If the if condition is False, Python checks the first elif condition. If that is also False, it checks the next elif, and so on. The first condition that evaluates to True will have its corresponding block of code executed. Once a True condition is found, the rest of the elif and else parts are skipped. If none of the if or elif conditions are true, then the else block (if provided) is executed. This structure allows for clean and readable multi-condition branching, making the program behave differently based on different inputs or scenarios. It’s useful for checking ranges, categories, or step-by-step conditions.\n",
        "\n",
        "13. What is the difference between for and while loops\n",
        "  \n",
        "- In Python, for and while loops are used to repeat a block of code, but they differ in structure and usage.\n",
        "\n",
        "- A for loop is used when the number of iterations is known or definite. It is typically used to iterate over a sequence such as a list, tuple, string, or a range of numbers. The loop automatically ends after the last item is processed.\n",
        "\n",
        "- A while loop is used when the number of iterations is unknown or indefinite, and the loop continues as long as a specified condition remains True. It is suitable for situations where the loop’s end depends on user input or changing conditions.\n",
        "\n",
        "14. Describe a scenario where a while loop is more suitable than a for loop\n",
        "\n",
        "- A while loop is more suitable than a for loop when the number of iterations is not known beforehand and the loop needs to run based on a specific condition being true. One common scenario is a user authentication system where the program continues to prompt the user for a password until the correct one is entered.\n",
        "\n",
        " - For example, in a login system, you don't know how many times a user might enter the wrong password. Using a while loop, you can keep asking for input until the correct password is provided. This makes the while loop ideal for conditions where termination depends on user input, system state, or dynamic conditions, rather than a predetermined number of repetitions.\n",
        "\n",
        " - A for loop is better suited for iterating over known sequences like lists or ranges, but in situations requiring indefinite repetition based on logic, a while loop provides the necessary flexibility and control.\n",
        "\n",
        "\n",
        "\n",
        "\n",
        "\n",
        "\n",
        "\n",
        "\n",
        "\n",
        "\n"
      ],
      "metadata": {
        "id": "uM1dbM-Disgp"
      }
    },
    {
      "cell_type": "markdown",
      "source": [
        "## 1.Write a Python program to print \"Hello, World!y"
      ],
      "metadata": {
        "id": "orWFcwoJsQ9Q"
      }
    },
    {
      "cell_type": "code",
      "source": [
        "print(\"hello,Worldy\")"
      ],
      "metadata": {
        "colab": {
          "base_uri": "https://localhost:8080/"
        },
        "id": "VT7sXh53sgbG",
        "outputId": "215e9b80-b51f-4b2a-92ff-b86f3d42cd09"
      },
      "execution_count": 14,
      "outputs": [
        {
          "output_type": "stream",
          "name": "stdout",
          "text": [
            "hello,Worldy\n"
          ]
        }
      ]
    },
    {
      "cell_type": "markdown",
      "source": [
        "## 2.Write a Python program that displays your name and age"
      ],
      "metadata": {
        "id": "saVKJd8GspgI"
      }
    },
    {
      "cell_type": "code",
      "source": [
        "# Python program to display name and age\n",
        "\n",
        "name = \"Rahul\"\n",
        "age = 21\n",
        "\n",
        "print(\"My name is\", name)\n",
        "print(\"I am\", age, \"years old.\")\n"
      ],
      "metadata": {
        "colab": {
          "base_uri": "https://localhost:8080/"
        },
        "id": "RlseqH7ctDls",
        "outputId": "038c8a01-ec04-457c-afb6-8a760474b87a"
      },
      "execution_count": 15,
      "outputs": [
        {
          "output_type": "stream",
          "name": "stdout",
          "text": [
            "My name is Rahul\n",
            "I am 21 years old.\n"
          ]
        }
      ]
    },
    {
      "cell_type": "markdown",
      "source": [
        "## 3. Write code to print all the pre-defined keywords in Python using the keyword library"
      ],
      "metadata": {
        "id": "ufQ8lXI4tMGN"
      }
    },
    {
      "cell_type": "code",
      "source": [
        "import keyword\n",
        "\n",
        "# Get the list of all Python keywords\n",
        "keywords_list = keyword.kwlist\n",
        "\n",
        "print(\"Python Keywords:\")\n",
        "for kw in keywords_list:\n",
        "    print(kw)\n"
      ],
      "metadata": {
        "colab": {
          "base_uri": "https://localhost:8080/"
        },
        "id": "a1XsCgoetXJh",
        "outputId": "dcfe81e2-7a2b-486f-9bdc-ed4fd4598e2e"
      },
      "execution_count": 16,
      "outputs": [
        {
          "output_type": "stream",
          "name": "stdout",
          "text": [
            "Python Keywords:\n",
            "False\n",
            "None\n",
            "True\n",
            "and\n",
            "as\n",
            "assert\n",
            "async\n",
            "await\n",
            "break\n",
            "class\n",
            "continue\n",
            "def\n",
            "del\n",
            "elif\n",
            "else\n",
            "except\n",
            "finally\n",
            "for\n",
            "from\n",
            "global\n",
            "if\n",
            "import\n",
            "in\n",
            "is\n",
            "lambda\n",
            "nonlocal\n",
            "not\n",
            "or\n",
            "pass\n",
            "raise\n",
            "return\n",
            "try\n",
            "while\n",
            "with\n",
            "yield\n"
          ]
        }
      ]
    },
    {
      "cell_type": "markdown",
      "source": [
        "# 4. Write a program that checks if a given word is a Python keyword"
      ],
      "metadata": {
        "id": "xoOBEX9rtYUF"
      }
    },
    {
      "cell_type": "code",
      "source": [
        "import keyword\n",
        "\n",
        "# Ask the user for a word\n",
        "word = input(\"Enter a word to check if it's a Python keyword: \")\n",
        "\n",
        "# Check if the word is a keyword\n",
        "if keyword.iskeyword(word):\n",
        "    print(f\"'{word}' is a Python keyword.\")\n",
        "else:\n",
        "    print(f\"'{word}' is NOT a Python keyword.\")\n"
      ],
      "metadata": {
        "colab": {
          "base_uri": "https://localhost:8080/"
        },
        "id": "r4n2LHfJtgsm",
        "outputId": "045ac431-331e-4ce0-de4f-926ff3dbf21c"
      },
      "execution_count": 17,
      "outputs": [
        {
          "output_type": "stream",
          "name": "stdout",
          "text": [
            "Enter a word to check if it's a Python keyword: def\n",
            "'def' is a Python keyword.\n"
          ]
        }
      ]
    },
    {
      "cell_type": "markdown",
      "source": [
        "## 5. Create a list and tuple in Python, and demonstrate how attempting to change an element works differently for each"
      ],
      "metadata": {
        "id": "UR0vVTdYtktT"
      }
    },
    {
      "cell_type": "code",
      "source": [
        "# Creating a list and a tuple\n",
        "my_list = [10, 20, 30, 40]\n",
        "my_tuple = (10, 20, 30, 40)\n",
        "\n",
        "# Attempting to change an element in the list\n",
        "print(\"Original List:\", my_list)\n",
        "my_list[2] = 50\n",
        "# Changing the third element of the list\n",
        "print(\"Modified List:\", my_list)\n",
        "\n",
        "# Attempting to change an element in the tuple\n",
        "print(\"\\nOriginal Tuple:\", my_tuple)\n",
        "try:\n",
        "    my_tuple[2] = 50  # Trying to change the third element of the tuple\n",
        "except TypeError as e:\n",
        "    print(\"Error:\", e)\n"
      ],
      "metadata": {
        "colab": {
          "base_uri": "https://localhost:8080/"
        },
        "id": "yYOMBpHZtuH_",
        "outputId": "5bd779f3-1056-4ff0-9bbc-091a4dd6c084"
      },
      "execution_count": 18,
      "outputs": [
        {
          "output_type": "stream",
          "name": "stdout",
          "text": [
            "Original List: [10, 20, 30, 40]\n",
            "Modified List: [10, 20, 50, 40]\n",
            "\n",
            "Original Tuple: (10, 20, 30, 40)\n",
            "Error: 'tuple' object does not support item assignment\n"
          ]
        }
      ]
    },
    {
      "cell_type": "markdown",
      "source": [
        "## 6. Write a function to demonstrate the behavior of mutable and immutable arguments"
      ],
      "metadata": {
        "id": "aj0MQ7Tktz8-"
      }
    },
    {
      "cell_type": "code",
      "source": [
        "# Function to modify both mutable and immutable types\n",
        "def modify_data(num, my_list):\n",
        "    print(\"Inside function before change:\")\n",
        "    print(\"num =\", num)\n",
        "    print(\"my_list =\", my_list)\n",
        "\n",
        "    # Attempt to modify the immutable argument\n",
        "    num += 10\n",
        "\n",
        "    # Modify the mutable argument\n",
        "    my_list.append(100)\n",
        "\n",
        "    print(\"Inside function after change:\")\n",
        "    print(\"num =\", num)\n",
        "    print(\"my_list =\", my_list)\n",
        "\n",
        "# Immutable data type (int)\n",
        "number = 50\n",
        "\n",
        "# Mutable data type (list)\n",
        "data_list = [1, 2, 3]\n",
        "\n",
        "# Call the function\n",
        "modify_data(number, data_list)\n",
        "\n",
        "print(\"\\nOutside function after calling:\")\n",
        "print(\"number =\", number)\n",
        "print(\"data_list =\", data_list)\n"
      ],
      "metadata": {
        "colab": {
          "base_uri": "https://localhost:8080/"
        },
        "id": "iV2XntPut6_e",
        "outputId": "2c005ac0-755a-4540-802b-fb931c4a4bcb"
      },
      "execution_count": 29,
      "outputs": [
        {
          "output_type": "stream",
          "name": "stdout",
          "text": [
            "Inside function before change:\n",
            "num = 50\n",
            "my_list = [1, 2, 3]\n",
            "Inside function after change:\n",
            "num = 60\n",
            "my_list = [1, 2, 3, 100]\n",
            "\n",
            "Outside function after calling:\n",
            "number = 50\n",
            "data_list = [1, 2, 3, 100]\n"
          ]
        }
      ]
    },
    {
      "cell_type": "markdown",
      "source": [
        "## 7. Write a program that performs basic arithmetic operations on two user-input numbers."
      ],
      "metadata": {
        "id": "jApBjY8fuZg8"
      }
    },
    {
      "cell_type": "code",
      "source": [
        "# Take user input\n",
        "num1 = float(input(\"Enter the first number: \"))\n",
        "num2 = float(input(\"Enter the second number: \"))\n",
        "\n",
        "# Perform arithmetic operations\n",
        "addition = num1 + num2\n",
        "subtraction = num1 - num2\n",
        "multiplication = num1 * num2\n",
        "\n",
        "# Handle division safely\n",
        "if num2 != 0:\n",
        "    division = num1 / num2\n",
        "else:\n",
        "    division = \"Undefined (division by zero)\"\n",
        "\n",
        "# Display the results\n",
        "print(\"\\nResults:\")\n",
        "print(\"Addition:\", addition)\n",
        "print(\"Subtraction:\", subtraction)\n",
        "print(\"Multiplication:\", multiplication)\n",
        "print(\"Division:\", division)\n"
      ],
      "metadata": {
        "colab": {
          "base_uri": "https://localhost:8080/"
        },
        "id": "nXllLgUrubgq",
        "outputId": "10a2f8e3-66ae-4d66-da3b-7bda99d45872"
      },
      "execution_count": 20,
      "outputs": [
        {
          "output_type": "stream",
          "name": "stdout",
          "text": [
            "Enter the first number: 54\n",
            "Enter the second number: 65\n",
            "\n",
            "Results:\n",
            "Addition: 119.0\n",
            "Subtraction: -11.0\n",
            "Multiplication: 3510.0\n",
            "Division: 0.8307692307692308\n"
          ]
        }
      ]
    },
    {
      "cell_type": "markdown",
      "source": [
        "## 8. Write a program to demonstrate the use of logical operators"
      ],
      "metadata": {
        "id": "X4dX0fX6ugu5"
      }
    },
    {
      "cell_type": "code",
      "source": [
        "# Input two numbers from the user\n",
        "a = int(input(\"Enter first number: \"))\n",
        "b = int(input(\"Enter second number: \"))\n",
        "\n",
        "# Logical AND\n",
        "if a > 0 and b > 0:\n",
        "    print(\"Both numbers are positive.\")\n",
        "else:\n",
        "    print(\"At least one number is not positive.\")\n",
        "\n",
        "# Logical OR\n",
        "if a == 0 or b == 0:\n",
        "    print(\"At least one number is zero.\")\n",
        "else:\n",
        "    print(\"Neither number is zero.\")\n",
        "\n",
        "# Logical NOT\n",
        "print(\"Using NOT operator:\")\n",
        "print(\"Is 'a' not negative?\", not (a < 0))\n",
        "print(\"Is 'b' not negative?\", not (b < 0))\n"
      ],
      "metadata": {
        "colab": {
          "base_uri": "https://localhost:8080/"
        },
        "id": "XRc6ga2wuwgO",
        "outputId": "5226a281-10d1-438c-9876-1f35cd4e25a9"
      },
      "execution_count": 21,
      "outputs": [
        {
          "output_type": "stream",
          "name": "stdout",
          "text": [
            "Enter first number: 34\n",
            "Enter second number: 67\n",
            "Both numbers are positive.\n",
            "Neither number is zero.\n",
            "Using NOT operator:\n",
            "Is 'a' not negative? True\n",
            "Is 'b' not negative? True\n"
          ]
        }
      ]
    },
    {
      "cell_type": "markdown",
      "source": [
        "## 9. Write a Python program to convert user input from string to integer, float, and boolean types"
      ],
      "metadata": {
        "id": "XFgw0PfZu1YM"
      }
    },
    {
      "cell_type": "code",
      "source": [
        "# Take input from the user\n",
        "user_input = input(\"Enter a value: \")\n",
        "\n",
        "# Convert to integer\n",
        "try:\n",
        "    int_value = int(user_input)\n",
        "    print(\"Integer:\", int_value)\n",
        "except ValueError:\n",
        "    print(\"Cannot convert to integer.\")\n",
        "\n",
        "# Convert to float\n",
        "try:\n",
        "    float_value = float(user_input)\n",
        "    print(\"Float:\", float_value)\n",
        "except ValueError:\n",
        "    print(\"Cannot convert to float.\")\n",
        "\n",
        "# Convert to boolean\n",
        "# Any non-empty string except \"False\", \"0\", \"none\" (case-insensitive) is considered True\n",
        "bool_value = bool(user_input.strip()) and user_input.lower() not in ['false', '0', 'none']\n",
        "print(\"Boolean:\", bool_value)\n"
      ],
      "metadata": {
        "colab": {
          "base_uri": "https://localhost:8080/"
        },
        "id": "XHUIIzkyu6Ft",
        "outputId": "d96759a2-3510-4c4e-ee5b-600b7ed6abc6"
      },
      "execution_count": 22,
      "outputs": [
        {
          "output_type": "stream",
          "name": "stdout",
          "text": [
            "Enter a value: 50\n",
            "Integer: 50\n",
            "Float: 50.0\n",
            "Boolean: True\n"
          ]
        }
      ]
    },
    {
      "cell_type": "markdown",
      "source": [
        "## 10. Write code to demonstrate type casting with list elements."
      ],
      "metadata": {
        "id": "klRdONJXu-WA"
      }
    },
    {
      "cell_type": "code",
      "source": [
        "# Original list with string numbers\n",
        "string_list = [\"10\", \"20\", \"30\", \"40\"]\n",
        "\n",
        "# Convert each string element to an integer\n",
        "int_list = [int(item) for item in string_list]\n",
        "print(\"Integer List:\", int_list)\n",
        "\n",
        "# Convert each string element to a float\n",
        "float_list = [float(item) for item in string_list]\n",
        "print(\"Float List:\", float_list)\n",
        "\n",
        "# Convert each integer back to a string\n",
        "string_again = [str(item) for item in int_list]\n",
        "print(\"String List:\", string_again)\n"
      ],
      "metadata": {
        "colab": {
          "base_uri": "https://localhost:8080/"
        },
        "id": "IxDSiRgxvBud",
        "outputId": "9f4c2a8e-c5a9-4b05-826c-c9af207ab41b"
      },
      "execution_count": 23,
      "outputs": [
        {
          "output_type": "stream",
          "name": "stdout",
          "text": [
            "Integer List: [10, 20, 30, 40]\n",
            "Float List: [10.0, 20.0, 30.0, 40.0]\n",
            "String List: ['10', '20', '30', '40']\n"
          ]
        }
      ]
    },
    {
      "cell_type": "markdown",
      "source": [
        "# 11. Write a program that checks if a number is positive, negative, or zero"
      ],
      "metadata": {
        "id": "KHAjn3T0vFrL"
      }
    },
    {
      "cell_type": "code",
      "source": [
        "# Take input from the user\n",
        "num = float(input(\"Enter a number: \"))\n",
        "\n",
        "# Check and display result\n",
        "if num > 0:\n",
        "    print(\"The number is positive.\")\n",
        "elif num < 0:\n",
        "    print(\"The number is negative.\")\n",
        "else:\n",
        "    print(\"The number is zero.\")\n"
      ],
      "metadata": {
        "colab": {
          "base_uri": "https://localhost:8080/"
        },
        "id": "a0HoZraGvPeS",
        "outputId": "d71fb1bc-2dbb-4b28-c79a-79825ee2352f"
      },
      "execution_count": 24,
      "outputs": [
        {
          "output_type": "stream",
          "name": "stdout",
          "text": [
            "Enter a number: 45\n",
            "The number is positive.\n"
          ]
        }
      ]
    },
    {
      "cell_type": "markdown",
      "source": [
        "# 12. Write a for loop to print numbers from 1 to 10."
      ],
      "metadata": {
        "id": "cWaY04b-vSba"
      }
    },
    {
      "cell_type": "code",
      "source": [
        "# Using for loop to print numbers from 1 to 10\n",
        "for i in range(1, 11):\n",
        "    print(i)\n"
      ],
      "metadata": {
        "colab": {
          "base_uri": "https://localhost:8080/"
        },
        "id": "DAL4Qbnjvech",
        "outputId": "42e33dbd-7884-4cf0-af1a-030f4fa739d9"
      },
      "execution_count": 25,
      "outputs": [
        {
          "output_type": "stream",
          "name": "stdout",
          "text": [
            "1\n",
            "2\n",
            "3\n",
            "4\n",
            "5\n",
            "6\n",
            "7\n",
            "8\n",
            "9\n",
            "10\n"
          ]
        }
      ]
    },
    {
      "cell_type": "markdown",
      "source": [
        "# 13. Write a Python program to find the sum of all even numbers between 1 and 50."
      ],
      "metadata": {
        "id": "d7b7RNedvhAt"
      }
    },
    {
      "cell_type": "code",
      "source": [
        "# Initialize sum variable\n",
        "even_sum = 0\n",
        "\n",
        "# Loop through numbers from 1 to 50\n",
        "for i in range(1, 51):\n",
        "    if i % 2 == 0:  # Check if the number is even\n",
        "        even_sum += i\n",
        "\n",
        "# Display the result\n",
        "print(\"Sum of all even numbers between 1 and 50 is:\", even_sum)\n"
      ],
      "metadata": {
        "colab": {
          "base_uri": "https://localhost:8080/"
        },
        "id": "jiXnz98IvmZC",
        "outputId": "8d49f850-ddfe-49ba-fa8c-220adafc771c"
      },
      "execution_count": 26,
      "outputs": [
        {
          "output_type": "stream",
          "name": "stdout",
          "text": [
            "Sum of all even numbers between 1 and 50 is: 650\n"
          ]
        }
      ]
    },
    {
      "cell_type": "markdown",
      "source": [
        "## 14. Write a program to reverse a string using a while loop."
      ],
      "metadata": {
        "id": "ddmA0L05vnk1"
      }
    },
    {
      "cell_type": "code",
      "source": [
        "# Take input from the user\n",
        "text = input(\"Enter a string: \")\n",
        "\n",
        "# Initialize variables\n",
        "reversed_text = \"\"\n",
        "index = len(text) - 1\n",
        "\n",
        "# Use while loop to reverse the string\n",
        "while index >= 0:\n",
        "    reversed_text += text[index]\n",
        "    index -= 1\n",
        "\n",
        "# Display the reversed string\n",
        "print(\"Reversed string:\", reversed_text)\n"
      ],
      "metadata": {
        "colab": {
          "base_uri": "https://localhost:8080/"
        },
        "id": "AzbK8X7RvrjU",
        "outputId": "918c2c90-b961-485a-928b-7c35aa516fcb"
      },
      "execution_count": 27,
      "outputs": [
        {
          "output_type": "stream",
          "name": "stdout",
          "text": [
            "Enter a string: 45\n",
            "Reversed string: 54\n"
          ]
        }
      ]
    },
    {
      "cell_type": "markdown",
      "source": [
        "# 15. Write a Python program to calculate the factorial of a number provided by the user using a while loop."
      ],
      "metadata": {
        "id": "XmVq76OwvviF"
      }
    },
    {
      "cell_type": "code",
      "source": [
        "# Take input from the user\n",
        "num = int(input(\"Enter a non-negative integer: \"))\n",
        "\n",
        "# Check for valid input\n",
        "if num < 0:\n",
        "    print(\"Factorial is not defined for negative numbers.\")\n",
        "else:\n",
        "    factorial = 1\n",
        "    i = 1\n",
        "\n",
        "    while i <= num:\n",
        "        factorial *= i\n",
        "        i += 1\n",
        "\n",
        "    print(f\"The factorial of {num} is {factorial}\")\n"
      ],
      "metadata": {
        "colab": {
          "base_uri": "https://localhost:8080/"
        },
        "id": "idiU_NhOv2QE",
        "outputId": "bacd37bc-e790-40c6-f571-31b8f299a55e"
      },
      "execution_count": 28,
      "outputs": [
        {
          "output_type": "stream",
          "name": "stdout",
          "text": [
            "Enter a non-negative integer: 67\n",
            "The factorial of 67 is 36471110918188685288249859096605464427167635314049524593701628500267962436943872000000000000000\n"
          ]
        }
      ]
    }
  ]
}